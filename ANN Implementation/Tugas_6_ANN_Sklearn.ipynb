{
  "nbformat": 4,
  "nbformat_minor": 0,
  "metadata": {
    "colab": {
      "provenance": []
    },
    "kernelspec": {
      "name": "python3",
      "display_name": "Python 3"
    },
    "language_info": {
      "name": "python"
    }
  },
  "cells": [
    {
      "cell_type": "markdown",
      "source": [
        "Nama : Mohammad Daffa Gashandy\n",
        "\n",
        "Kelas : KOMB\n",
        "\n",
        "NIM : 20/455449/PA/10664"
      ],
      "metadata": {
        "id": "ptkORAHJ9a-f"
      }
    },
    {
      "cell_type": "markdown",
      "source": [
        "<h3><b>Implementasi ANN menggunakan library Scikit-learn</b></h3>"
      ],
      "metadata": {
        "id": "NqRDZkex-RFl"
      }
    },
    {
      "cell_type": "code",
      "execution_count": null,
      "metadata": {
        "colab": {
          "base_uri": "https://localhost:8080/"
        },
        "id": "ebWI48kG9Plx",
        "outputId": "2e45f644-e22c-46d6-db57-5d5b621b9192"
      },
      "outputs": [
        {
          "output_type": "stream",
          "name": "stdout",
          "text": [
            "X_train (108, 4)\n",
            "X_val (27, 4)\n",
            "X_test (15, 4)\n",
            "Akurasi Validasi Training ANN: 1.0\n"
          ]
        }
      ],
      "source": [
        "from sklearn import datasets\n",
        "from sklearn.model_selection import train_test_split\n",
        "from sklearn.neural_network import MLPClassifier\n",
        "from sklearn.metrics import accuracy_score\n",
        "from sklearn.metrics import accuracy_score, plot_confusion_matrix\n",
        "\n",
        "iris = datasets.load_iris()\n",
        "X = iris.data\n",
        "y = iris.target\n",
        "\n",
        "X_train, X_test, Y_train, Y_test = train_test_split(X, y, test_size=.10)\n",
        "X_train, X_val, Y_train, Y_val = train_test_split(X_train, Y_train, test_size=.2)\n",
        "print('X_train', X_train.shape)\n",
        "print('X_val', X_val.shape)\n",
        "print('X_test', X_test.shape)\n",
        "\n",
        "mlp = MLPClassifier(hidden_layer_sizes=(100, ), activation='logistic', max_iter= 800)\n",
        "mlp.fit(X_train, Y_train)\n",
        "prediksi_val = mlp.predict(X_val)\n",
        "acc_val = accuracy_score(Y_val, prediksi_val)\n",
        "print('Akurasi Validasi Training ANN:', acc_val)"
      ]
    },
    {
      "cell_type": "code",
      "source": [
        "prediksi_test = mlp.predict(X_test)\n",
        "acc_test = accuracy_score(Y_test, prediksi_test)\n",
        "print('Akurasi Testing ANN:', acc_test, end=\"\\n\\n\")\n",
        "plot_confusion_matrix(mlp, X_test, Y_test)"
      ],
      "metadata": {
        "colab": {
          "base_uri": "https://localhost:8080/",
          "height": 390
        },
        "id": "zyfSzoC891C5",
        "outputId": "f2933808-5869-43dc-b3f8-5b7691e8fce6"
      },
      "execution_count": null,
      "outputs": [
        {
          "output_type": "stream",
          "name": "stdout",
          "text": [
            "Akurasi Testing ANN: 1.0\n",
            "\n"
          ]
        },
        {
          "output_type": "stream",
          "name": "stderr",
          "text": [
            "/usr/local/lib/python3.7/dist-packages/sklearn/utils/deprecation.py:87: FutureWarning: Function plot_confusion_matrix is deprecated; Function `plot_confusion_matrix` is deprecated in 1.0 and will be removed in 1.2. Use one of the class methods: ConfusionMatrixDisplay.from_predictions or ConfusionMatrixDisplay.from_estimator.\n",
            "  warnings.warn(msg, category=FutureWarning)\n"
          ]
        },
        {
          "output_type": "execute_result",
          "data": {
            "text/plain": [
              "<sklearn.metrics._plot.confusion_matrix.ConfusionMatrixDisplay at 0x7f1ef3fbd090>"
            ]
          },
          "metadata": {},
          "execution_count": 2
        },
        {
          "output_type": "display_data",
          "data": {
            "text/plain": [
              "<Figure size 432x288 with 2 Axes>"
            ],
            "image/png": "[encoded data removed]"
          },
          "metadata": {
            "needs_background": "light"
          }
        }
      ]
    }
  ]
}