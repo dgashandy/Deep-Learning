{
  "nbformat": 4,
  "nbformat_minor": 0,
  "metadata": {
    "colab": {
      "provenance": []
    },
    "kernelspec": {
      "name": "python3",
      "display_name": "Python 3"
    },
    "language_info": {
      "name": "python"
    }
  },
  "cells": [
    {
      "cell_type": "markdown",
      "source": [
        "Nama : Mohammad Daffa Gashandy\n",
        "\n",
        "Kelas : KOMB\n",
        "\n",
        "NIM : 20/455449/PA/19664"
      ],
      "metadata": {
        "id": "LRoI5Ud9-6pX"
      }
    },
    {
      "cell_type": "code",
      "execution_count": null,
      "metadata": {
        "colab": {
          "base_uri": "https://localhost:8080/"
        },
        "id": "BCHLOcib-od2",
        "outputId": "6248af46-4b48-4974-da57-c7128f0822d9"
      },
      "outputs": [
        {
          "output_type": "stream",
          "name": "stdout",
          "text": [
            "Downloading data from https://storage.googleapis.com/tensorflow/tf-keras-datasets/mnist.npz\n",
            "11493376/11490434 [==============================] - 0s 0us/step\n",
            "11501568/11490434 [==============================] - 0s 0us/step\n",
            "Epoch 1/10\n",
            "600/600 [==============================] - 4s 6ms/step - loss: 0.3788 - acc: 0.8961 - val_loss: 0.2057 - val_acc: 0.9423\n",
            "Epoch 2/10\n",
            "600/600 [==============================] - 4s 7ms/step - loss: 0.1820 - acc: 0.9475 - val_loss: 0.1522 - val_acc: 0.9550\n",
            "Epoch 3/10\n",
            "600/600 [==============================] - 4s 7ms/step - loss: 0.1368 - acc: 0.9606 - val_loss: 0.1234 - val_acc: 0.9632\n",
            "Epoch 4/10\n",
            "600/600 [==============================] - 4s 7ms/step - loss: 0.1106 - acc: 0.9687 - val_loss: 0.1087 - val_acc: 0.9674\n",
            "Epoch 5/10\n",
            "600/600 [==============================] - 4s 7ms/step - loss: 0.0918 - acc: 0.9730 - val_loss: 0.0947 - val_acc: 0.9704\n",
            "Epoch 6/10\n",
            "600/600 [==============================] - 2s 4ms/step - loss: 0.0785 - acc: 0.9772 - val_loss: 0.0922 - val_acc: 0.9723\n",
            "Epoch 7/10\n",
            "600/600 [==============================] - 2s 4ms/step - loss: 0.0687 - acc: 0.9795 - val_loss: 0.0843 - val_acc: 0.9750\n",
            "Epoch 8/10\n",
            "600/600 [==============================] - 2s 3ms/step - loss: 0.0605 - acc: 0.9825 - val_loss: 0.0834 - val_acc: 0.9742\n",
            "Epoch 9/10\n",
            "600/600 [==============================] - 2s 4ms/step - loss: 0.0541 - acc: 0.9845 - val_loss: 0.0806 - val_acc: 0.9754\n",
            "Epoch 10/10\n",
            "600/600 [==============================] - 2s 4ms/step - loss: 0.0478 - acc: 0.9865 - val_loss: 0.0810 - val_acc: 0.9750\n",
            "313/313 [==============================] - 1s 2ms/step - loss: 0.0810 - acc: 0.9750\n"
          ]
        },
        {
          "output_type": "execute_result",
          "data": {
            "text/plain": [
              "[0.08102025836706161, 0.9750000238418579]"
            ]
          },
          "metadata": {},
          "execution_count": 1
        }
      ],
      "source": [
        "from tensorflow.keras.utils import to_categorical\n",
        "from keras.datasets import mnist\n",
        "from keras.models import Sequential\n",
        "from keras.layers import Flatten, Dense\n",
        "import matplotlib.pyplot as plt\n",
        "import numpy as np\n",
        "from keras.models import load_model\n",
        "\n",
        "(X_train, y_train), (X_test, y_test) = mnist.load_data()\n",
        "X_train = X_train.reshape(-1, 28,28,1)\n",
        "X_test = X_test.reshape(-1, 28,28,1)\n",
        "X_train = X_train.astype('float32')\n",
        "X_test = X_test.astype('float32')\n",
        "X_train /= 255\n",
        "X_test /= 255\n",
        "y_train = to_categorical(y_train, 10)\n",
        "y_test = to_categorical(y_test, 10)\n",
        "\n",
        "model1 = Sequential()\n",
        "model1.add(Flatten())\n",
        "model1.add(Dense(64,activation='relu'))\n",
        "model1.add(Dense(10,activation='softmax'))\n",
        "\n",
        "model1.compile(optimizer='adam',loss='categorical_crossentropy',metrics=['acc'])\n",
        "history = model1.fit(X_train,y_train,epochs=10,batch_size=100,validation_data=(X_test,y_test))\n",
        "model1.save('my_model1.h5')\n",
        "model1.evaluate(X_test,y_test)\n"
      ]
    },
    {
      "cell_type": "code",
      "source": [
        "epochs = range(10)\n",
        "loss1 = history.history['loss']\n",
        "val_loss1 = history.history['val_loss']\n",
        "plt.plot(epochs,loss1,'r',label='training loss ANN')\n",
        "plt.plot(epochs,val_loss1,'b',label='validasi loss ANN')\n",
        "plt.legend()"
      ],
      "metadata": {
        "colab": {
          "base_uri": "https://localhost:8080/",
          "height": 282
        },
        "id": "MrA18dwl-_wf",
        "outputId": "4e45af40-5468-492a-c0db-a1034a9c186a"
      },
      "execution_count": null,
      "outputs": [
        {
          "output_type": "execute_result",
          "data": {
            "text/plain": [
              "<matplotlib.legend.Legend at 0x7fcc6cb90750>"
            ]
          },
          "metadata": {},
          "execution_count": 2
        },
        {
          "output_type": "display_data",
          "data": {
            "text/plain": [
              "<Figure size 432x288 with 1 Axes>"
            ],
            "image/png": "[encoded data removed]"
          },
          "metadata": {
            "needs_background": "light"
          }
        }
      ]
    },
    {
      "cell_type": "code",
      "source": [
        "model_simpan = load_model('/content/my_model1.h5')\n",
        "pred = model_simpan.predict(X_test)\n",
        "print('label actual:',np.argmax(y_test[30]))\n",
        "print('label prediction:',np.argmax(pred[30]))"
      ],
      "metadata": {
        "colab": {
          "base_uri": "https://localhost:8080/"
        },
        "id": "NFQ8Avg8_ANj",
        "outputId": "9cdc662d-e043-4dbb-82d0-4de8523d0374"
      },
      "execution_count": null,
      "outputs": [
        {
          "output_type": "stream",
          "name": "stdout",
          "text": [
            "label actual: 3\n",
            "label prediction: 3\n"
          ]
        }
      ]
    }
  ]
}